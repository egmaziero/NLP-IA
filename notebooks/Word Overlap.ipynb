{
 "cells": [
  {
   "cell_type": "markdown",
   "metadata": {},
   "source": [
    "# Word Overlap\n",
    "Simple way to measure lexical overlaping in two texts (sentence, paragraph or document).\n",
    "It removes punctuation and stopwords. Then, calculates the amount of common words over the sum of the words in two texts. So, this measure goes from 0 (different) to 0.5 (equal)."
   ]
  },
  {
   "cell_type": "code",
   "execution_count": 1,
   "metadata": {},
   "outputs": [],
   "source": [
    "import nltk\n",
    "import string"
   ]
  },
  {
   "cell_type": "code",
   "execution_count": 2,
   "metadata": {},
   "outputs": [],
   "source": [
    "stopwords_list = nltk.corpus.stopwords.words('portuguese')\n",
    "\n",
    "def tokenize_words(t):\n",
    "    return nltk.tokenize.word_tokenize(t)\n",
    "\n",
    "def remove_stopwords(tokens):\n",
    "    return [t for t in tokens if t not in stopwords_list]\n",
    "\n",
    "def remove_punctuation(t):\n",
    "    return t.translate(str.maketrans('','',string.punctuation))\n",
    "\n",
    "def word_overlap(t1, t2):\n",
    "    tokens1 = remove_stopwords(tokenize_words(remove_punctuation(t1)))\n",
    "    tokens2 = remove_stopwords(tokenize_words(remove_punctuation(t2)))\n",
    "    matches = [1 for t in tokens1 if t in tokens2]\n",
    "    return sum(matches) / (len(tokens1) + len(tokens2))"
   ]
  },
  {
   "cell_type": "code",
   "execution_count": 3,
   "metadata": {},
   "outputs": [
    {
     "data": {
      "text/plain": [
       "0.5"
      ]
     },
     "execution_count": 3,
     "metadata": {},
     "output_type": "execute_result"
    }
   ],
   "source": [
    "t1 = \"Contagem manual de milhões de votos deixa 272 pessoas mortas e outras 1.878 doentes na Indonésia\"\n",
    "t2 = \"Contagem manual de milhões de votos deixa 272 pessoas mortas e outras 1.878 doentes na Indonésia\"\n",
    "word_overlap(t1, t2)"
   ]
  },
  {
   "cell_type": "code",
   "execution_count": 4,
   "metadata": {},
   "outputs": [
    {
     "data": {
      "text/plain": [
       "0.0"
      ]
     },
     "execution_count": 4,
     "metadata": {},
     "output_type": "execute_result"
    }
   ],
   "source": [
    "t1 = \"Contagem manual de milhões de votos deixa 272 pessoas mortas e outras 1.878 doentes na Indonésia\"\n",
    "t2 = \"Primeira eleição que juntou o voto presidencial com parlamentares nacionais e regionais num mesmo pleito.\"\n",
    "word_overlap(t1, t2)"
   ]
  },
  {
   "cell_type": "code",
   "execution_count": 5,
   "metadata": {},
   "outputs": [
    {
     "data": {
      "text/plain": [
       "0.4166666666666667"
      ]
     },
     "execution_count": 5,
     "metadata": {},
     "output_type": "execute_result"
    }
   ],
   "source": [
    "t1 = \"Contagem manual de milhões de votos deixa 272 pessoas mortas e outras 1.878 doentes na Indonésia.\"\n",
    "t2 = \"272 pessoas mortas e outras 1.878 doentes na Indonésia após contagem manual de milhões de votos.\"\n",
    "word_overlap(t1, t2)"
   ]
  },
  {
   "cell_type": "code",
   "execution_count": null,
   "metadata": {},
   "outputs": [],
   "source": []
  }
 ],
 "metadata": {
  "kernelspec": {
   "display_name": "Python 3",
   "language": "python",
   "name": "python3"
  },
  "language_info": {
   "codemirror_mode": {
    "name": "ipython",
    "version": 3
   },
   "file_extension": ".py",
   "mimetype": "text/x-python",
   "name": "python",
   "nbconvert_exporter": "python",
   "pygments_lexer": "ipython3",
   "version": "3.7.0"
  }
 },
 "nbformat": 4,
 "nbformat_minor": 2
}
