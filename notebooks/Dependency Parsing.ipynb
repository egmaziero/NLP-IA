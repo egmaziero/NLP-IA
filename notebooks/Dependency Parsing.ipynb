{
 "cells": [
  {
   "cell_type": "code",
   "execution_count": 1,
   "metadata": {},
   "outputs": [],
   "source": [
    "import spacy"
   ]
  },
  {
   "cell_type": "markdown",
   "metadata": {},
   "source": [
    "# download Portuguese model \n",
    "### https://spacy.io/models/pt"
   ]
  },
  {
   "cell_type": "code",
   "execution_count": 2,
   "metadata": {},
   "outputs": [
    {
     "data": {
      "text/plain": [
       "0"
      ]
     },
     "execution_count": 2,
     "metadata": {},
     "output_type": "execute_result"
    }
   ],
   "source": [
    "import subprocess\n",
    "command = \"python -m spacy download pt_core_news_sm\".split()\n",
    "subprocess.call(command)"
   ]
  },
  {
   "cell_type": "markdown",
   "metadata": {},
   "source": [
    "# POS and Dependency Parsing\n",
    "read documentation at https://spacy.io/api/token\n",
    "\n",
    "Tagsets at http://universaldependencies.org/u/dep/ and https://github.com/explosion/spaCy/blob/master/spacy/lang/pt/tag_map.py\n",
    "\n",
    "Dependency parsing theory https://web.stanford.edu/~jurafsky/slp3/13.pdf"
   ]
  },
  {
   "cell_type": "code",
   "execution_count": 3,
   "metadata": {},
   "outputs": [
    {
     "name": "stdout",
     "output_type": "stream",
     "text": [
      "Está calor aqui\n",
      "\n",
      "Está Está VERB <mv>|V|PR|3S|IND|@FS-STA cop calor  Xxxx pt\n",
      "calor calor NOUN <np-idf>|N|M|S|@<SC ROOT calor  xxxx pt\n",
      "aqui aqui ADV ADV|@<ADVL advmod calor  xxxx pt\n"
     ]
    }
   ],
   "source": [
    "nlp = spacy.load('pt_core_news_sm')\n",
    "sentence = \"Está calor aqui\"\n",
    "doc = nlp(sentence)\n",
    "print(doc.text)\n",
    "print()\n",
    "for token in doc:\n",
    "    print(token.text, token.lemma_, token.pos_, token.tag_, token.dep_, token.head, token.ent_type_, token.shape_, token.lang_)"
   ]
  },
  {
   "cell_type": "code",
   "execution_count": null,
   "metadata": {},
   "outputs": [],
   "source": []
  }
 ],
 "metadata": {
  "kernelspec": {
   "display_name": "Python 3",
   "language": "python",
   "name": "python3"
  },
  "language_info": {
   "codemirror_mode": {
    "name": "ipython",
    "version": 3
   },
   "file_extension": ".py",
   "mimetype": "text/x-python",
   "name": "python",
   "nbconvert_exporter": "python",
   "pygments_lexer": "ipython3",
   "version": "3.7.0"
  }
 },
 "nbformat": 4,
 "nbformat_minor": 2
}
