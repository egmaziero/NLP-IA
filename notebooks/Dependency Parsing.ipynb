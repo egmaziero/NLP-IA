{
 "cells": [
  {
   "cell_type": "code",
   "execution_count": 2,
   "metadata": {},
   "outputs": [],
   "source": [
    "import spacy"
   ]
  },
  {
   "cell_type": "markdown",
   "metadata": {},
   "source": [
    "# download Portuguese model \n",
    "### https://spacy.io/models/pt"
   ]
  },
  {
   "cell_type": "code",
   "execution_count": null,
   "metadata": {},
   "outputs": [],
   "source": [
    "import subprocess\n",
    "command = \"python -m spacy download pt_core_news_sm\".split()\n",
    "subprocess.call(command)"
   ]
  },
  {
   "cell_type": "markdown",
   "metadata": {},
   "source": [
    "# POS and Dependency Parsing\n",
    "read documentation at https://spacy.io/api/token\n",
    "\n",
    "Tagsets at http://universaldependencies.org/u/dep/ and https://github.com/explosion/spaCy/blob/master/spacy/lang/pt/tag_map.py\n",
    "\n",
    "Dependency parsing theory https://web.stanford.edu/~jurafsky/slp3/13.pdf"
   ]
  },
  {
   "cell_type": "code",
   "execution_count": 18,
   "metadata": {},
   "outputs": [
    {
     "name": "stdout",
     "output_type": "stream",
     "text": [
      "A UFLA é a melhor universidade do Brasil, 10!\n",
      "\n",
      "A A DET <artd>|ART|F|S|@>N det UFLA  X pt 0.0\n",
      "UFLA UFLA PROPN PROP|F|S|@SUBJ> nsubj universidade ORG XXXX pt 0.0\n",
      "é ser VERB <mv>|V|PR|3S|IND|@FS-STA cop universidade  x pt 0.0\n",
      "a o DET <artd>|ART|F|S|@>N det universidade  x pt 0.0\n",
      "melhor melhor ADJ <KOMP>|<COMP>|ADJ|F|S|@>N amod universidade  xxxx pt 0.0\n",
      "universidade universidade NOUN <np-def>|N|F|S|@<SC ROOT universidade  xxxx pt 0.0\n",
      "do do ADP PRP|@N< case Brasil  xx pt 0.0\n",
      "Brasil Brasil PROPN PROP|M|S|@P< nmod universidade LOC Xxxxx pt 0.0\n",
      ", , PUNCT PU|@PU punct 10  , pt 0.0\n",
      "10 10 NUM <card>|NUM|M|P|@N<PRED appos Brasil  dd pt 0.0\n",
      "! ! PUNCT PU|@PU punct universidade  ! pt 0.0\n"
     ]
    }
   ],
   "source": [
    "nlp = spacy.load('pt_core_news_sm')\n",
    "sentence = \"A UFLA é a melhor universidade do Brasil, 10!\"\n",
    "doc = nlp(sentence)\n",
    "print(doc.text)\n",
    "print()\n",
    "for token in doc:\n",
    "    print(token.text, token.lemma_, token.pos_, token.tag_, token.dep_, token.head, token.ent_type_, token.shape_, token.lang_)"
   ]
  },
  {
   "cell_type": "code",
   "execution_count": null,
   "metadata": {},
   "outputs": [],
   "source": []
  }
 ],
 "metadata": {
  "kernelspec": {
   "display_name": "Python 3",
   "language": "python",
   "name": "python3"
  },
  "language_info": {
   "codemirror_mode": {
    "name": "ipython",
    "version": 3
   },
   "file_extension": ".py",
   "mimetype": "text/x-python",
   "name": "python",
   "nbconvert_exporter": "python",
   "pygments_lexer": "ipython3",
   "version": "3.7.0"
  }
 },
 "nbformat": 4,
 "nbformat_minor": 2
}
