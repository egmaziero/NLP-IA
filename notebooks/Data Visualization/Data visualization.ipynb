{
 "cells": [
  {
   "cell_type": "markdown",
   "metadata": {},
   "source": [
    "# Pandas\n",
    "## Series\n",
    "One dimensional data structure\n",
    "## Dataframe\n",
    "Two or more dimensional data structure: often a table with columns and rows"
   ]
  },
  {
   "cell_type": "code",
   "execution_count": 1,
   "metadata": {},
   "outputs": [],
   "source": [
    "%matplotlib inline\n",
    "\n",
    "import matplotlib\n",
    "import pandas as pd\n",
    "import matplotlib.pyplot as plt"
   ]
  },
  {
   "cell_type": "markdown",
   "metadata": {},
   "source": [
    "https://data.world/datafiniti/hotel-reviews"
   ]
  },
  {
   "cell_type": "code",
   "execution_count": 2,
   "metadata": {},
   "outputs": [],
   "source": [
    "df = pd.read_csv('data/hotel_reviews.csv')"
   ]
  },
  {
   "cell_type": "code",
   "execution_count": 3,
   "metadata": {},
   "outputs": [
    {
     "data": {
      "text/html": [
       "<div>\n",
       "<style scoped>\n",
       "    .dataframe tbody tr th:only-of-type {\n",
       "        vertical-align: middle;\n",
       "    }\n",
       "\n",
       "    .dataframe tbody tr th {\n",
       "        vertical-align: top;\n",
       "    }\n",
       "\n",
       "    .dataframe thead th {\n",
       "        text-align: right;\n",
       "    }\n",
       "</style>\n",
       "<table border=\"1\" class=\"dataframe\">\n",
       "  <thead>\n",
       "    <tr style=\"text-align: right;\">\n",
       "      <th></th>\n",
       "      <th>address</th>\n",
       "      <th>categories</th>\n",
       "      <th>city</th>\n",
       "      <th>country</th>\n",
       "      <th>latitude</th>\n",
       "      <th>longitude</th>\n",
       "      <th>name</th>\n",
       "      <th>postalCode</th>\n",
       "      <th>province</th>\n",
       "      <th>reviews.date</th>\n",
       "      <th>reviews.dateAdded</th>\n",
       "      <th>reviews.doRecommend</th>\n",
       "      <th>reviews.id</th>\n",
       "      <th>reviews.rating</th>\n",
       "      <th>reviews.text</th>\n",
       "      <th>reviews.title</th>\n",
       "      <th>reviews.userCity</th>\n",
       "      <th>reviews.username</th>\n",
       "      <th>reviews.userProvince</th>\n",
       "    </tr>\n",
       "  </thead>\n",
       "  <tbody>\n",
       "    <tr>\n",
       "      <th>3542</th>\n",
       "      <td>210 Ludlow St</td>\n",
       "      <td>Hotels</td>\n",
       "      <td>Warren</td>\n",
       "      <td>US</td>\n",
       "      <td>41.83631</td>\n",
       "      <td>-79.169310</td>\n",
       "      <td>Days Inn Warren</td>\n",
       "      <td>16365</td>\n",
       "      <td>PA</td>\n",
       "      <td>2014-10-19T00:00:00Z</td>\n",
       "      <td>2017-04-20T01:37:39Z</td>\n",
       "      <td>NaN</td>\n",
       "      <td>NaN</td>\n",
       "      <td>3.0</td>\n",
       "      <td>Not worth the cost. No breakfast because they ...</td>\n",
       "      <td>Not as good as expected.</td>\n",
       "      <td>NaN</td>\n",
       "      <td>A verified traveler</td>\n",
       "      <td>Erie</td>\n",
       "    </tr>\n",
       "    <tr>\n",
       "      <th>4486</th>\n",
       "      <td>Taragaon Boudha</td>\n",
       "      <td>Hotels</td>\n",
       "      <td>Alliance</td>\n",
       "      <td>US</td>\n",
       "      <td>27.72160</td>\n",
       "      <td>85.355959</td>\n",
       "      <td>Hyatt Regency Kathmandu</td>\n",
       "      <td>44601</td>\n",
       "      <td>OH</td>\n",
       "      <td>2016-01-11T00:00:00Z</td>\n",
       "      <td>2016-11-11T23:48:28Z</td>\n",
       "      <td>NaN</td>\n",
       "      <td>NaN</td>\n",
       "      <td>7.1</td>\n",
       "      <td>Very dated, felt mattress springs Great staff,...</td>\n",
       "      <td>Nice stay, needs updating</td>\n",
       "      <td>NaN</td>\n",
       "      <td>James</td>\n",
       "      <td>NaN</td>\n",
       "    </tr>\n",
       "    <tr>\n",
       "      <th>2266</th>\n",
       "      <td>101 Main St</td>\n",
       "      <td>Hotels,Lodging</td>\n",
       "      <td>Burlington</td>\n",
       "      <td>US</td>\n",
       "      <td>44.47582</td>\n",
       "      <td>-73.215550</td>\n",
       "      <td>Hilton Garden Inn Burlington Downtown</td>\n",
       "      <td>5401</td>\n",
       "      <td>Burl</td>\n",
       "      <td>2016-02-19T00:00:00Z</td>\n",
       "      <td>2016-06-22T19:07:50Z</td>\n",
       "      <td>NaN</td>\n",
       "      <td>NaN</td>\n",
       "      <td>4.0</td>\n",
       "      <td>So know first this is first and foremost a col...</td>\n",
       "      <td>Very nice for where it is, bad internet</td>\n",
       "      <td>New York City</td>\n",
       "      <td>ELSUSHI921</td>\n",
       "      <td>NY</td>\n",
       "    </tr>\n",
       "  </tbody>\n",
       "</table>\n",
       "</div>"
      ],
      "text/plain": [
       "              address      categories        city country  latitude  \\\n",
       "3542    210 Ludlow St          Hotels      Warren      US  41.83631   \n",
       "4486  Taragaon Boudha          Hotels    Alliance      US  27.72160   \n",
       "2266      101 Main St  Hotels,Lodging  Burlington      US  44.47582   \n",
       "\n",
       "      longitude                                   name postalCode province  \\\n",
       "3542 -79.169310                        Days Inn Warren      16365       PA   \n",
       "4486  85.355959                Hyatt Regency Kathmandu      44601       OH   \n",
       "2266 -73.215550  Hilton Garden Inn Burlington Downtown       5401     Burl   \n",
       "\n",
       "              reviews.date     reviews.dateAdded  reviews.doRecommend  \\\n",
       "3542  2014-10-19T00:00:00Z  2017-04-20T01:37:39Z                  NaN   \n",
       "4486  2016-01-11T00:00:00Z  2016-11-11T23:48:28Z                  NaN   \n",
       "2266  2016-02-19T00:00:00Z  2016-06-22T19:07:50Z                  NaN   \n",
       "\n",
       "      reviews.id  reviews.rating  \\\n",
       "3542         NaN             3.0   \n",
       "4486         NaN             7.1   \n",
       "2266         NaN             4.0   \n",
       "\n",
       "                                           reviews.text  \\\n",
       "3542  Not worth the cost. No breakfast because they ...   \n",
       "4486  Very dated, felt mattress springs Great staff,...   \n",
       "2266  So know first this is first and foremost a col...   \n",
       "\n",
       "                                reviews.title reviews.userCity  \\\n",
       "3542                 Not as good as expected.              NaN   \n",
       "4486                Nice stay, needs updating              NaN   \n",
       "2266  Very nice for where it is, bad internet    New York City   \n",
       "\n",
       "         reviews.username reviews.userProvince  \n",
       "3542  A verified traveler                 Erie  \n",
       "4486                James                  NaN  \n",
       "2266           ELSUSHI921                   NY  "
      ]
     },
     "execution_count": 3,
     "metadata": {},
     "output_type": "execute_result"
    }
   ],
   "source": [
    "#df.head(5)\n",
    "df.sample(3)\n",
    "#df.tail()"
   ]
  },
  {
   "cell_type": "code",
   "execution_count": 4,
   "metadata": {},
   "outputs": [
    {
     "data": {
      "text/html": [
       "<div>\n",
       "<style scoped>\n",
       "    .dataframe tbody tr th:only-of-type {\n",
       "        vertical-align: middle;\n",
       "    }\n",
       "\n",
       "    .dataframe tbody tr th {\n",
       "        vertical-align: top;\n",
       "    }\n",
       "\n",
       "    .dataframe thead th {\n",
       "        text-align: right;\n",
       "    }\n",
       "</style>\n",
       "<table border=\"1\" class=\"dataframe\">\n",
       "  <thead>\n",
       "    <tr style=\"text-align: right;\">\n",
       "      <th></th>\n",
       "      <th>address</th>\n",
       "      <th>categories</th>\n",
       "      <th>city</th>\n",
       "      <th>country</th>\n",
       "      <th>latitude</th>\n",
       "      <th>longitude</th>\n",
       "      <th>name</th>\n",
       "      <th>postalCode</th>\n",
       "      <th>province</th>\n",
       "      <th>reviews.date</th>\n",
       "      <th>reviews.dateAdded</th>\n",
       "      <th>reviews.doRecommend</th>\n",
       "      <th>reviews.id</th>\n",
       "      <th>reviews.rating</th>\n",
       "      <th>reviews.text</th>\n",
       "      <th>reviews.title</th>\n",
       "      <th>reviews.userCity</th>\n",
       "      <th>reviews.username</th>\n",
       "      <th>reviews.userProvince</th>\n",
       "    </tr>\n",
       "  </thead>\n",
       "  <tbody>\n",
       "    <tr>\n",
       "      <th>1915</th>\n",
       "      <td>2920 Clairmont Rd</td>\n",
       "      <td>Hotels &amp; Motels,Family-Friendly Hotels,Tourist...</td>\n",
       "      <td>Atlanta</td>\n",
       "      <td>US</td>\n",
       "      <td>33.843213</td>\n",
       "      <td>-84.314667</td>\n",
       "      <td>Holiday Inn Express Atlanta Ne - I-85 Clairmont</td>\n",
       "      <td>30329</td>\n",
       "      <td>Briarcliff</td>\n",
       "      <td>2008-10-05T00:00:00Z</td>\n",
       "      <td>2016-11-17T20:38:28Z</td>\n",
       "      <td>NaN</td>\n",
       "      <td>NaN</td>\n",
       "      <td>NaN</td>\n",
       "      <td>Mid-range hotel chain with plenty of amenities...</td>\n",
       "      <td>NaN</td>\n",
       "      <td>NaN</td>\n",
       "      <td>Contributor</td>\n",
       "      <td>NaN</td>\n",
       "    </tr>\n",
       "    <tr>\n",
       "      <th>1920</th>\n",
       "      <td>2920 Clairmont Rd</td>\n",
       "      <td>Hotels &amp; Motels,Family-Friendly Hotels,Tourist...</td>\n",
       "      <td>Atlanta</td>\n",
       "      <td>US</td>\n",
       "      <td>33.843213</td>\n",
       "      <td>-84.314667</td>\n",
       "      <td>Holiday Inn Express Atlanta Ne - I-85 Clairmont</td>\n",
       "      <td>30329</td>\n",
       "      <td>Briarcliff</td>\n",
       "      <td>2014-09-07T05:00:00Z</td>\n",
       "      <td>2016-11-17T20:38:28Z</td>\n",
       "      <td>NaN</td>\n",
       "      <td>NaN</td>\n",
       "      <td>NaN</td>\n",
       "      <td>Nice place, service is outstanding.  Very clean</td>\n",
       "      <td>NaN</td>\n",
       "      <td>NaN</td>\n",
       "      <td>Matt Hickey</td>\n",
       "      <td>NaN</td>\n",
       "    </tr>\n",
       "  </tbody>\n",
       "</table>\n",
       "</div>"
      ],
      "text/plain": [
       "                address                                         categories  \\\n",
       "1915  2920 Clairmont Rd  Hotels & Motels,Family-Friendly Hotels,Tourist...   \n",
       "1920  2920 Clairmont Rd  Hotels & Motels,Family-Friendly Hotels,Tourist...   \n",
       "\n",
       "         city country   latitude  longitude  \\\n",
       "1915  Atlanta      US  33.843213 -84.314667   \n",
       "1920  Atlanta      US  33.843213 -84.314667   \n",
       "\n",
       "                                                 name postalCode    province  \\\n",
       "1915  Holiday Inn Express Atlanta Ne - I-85 Clairmont      30329  Briarcliff   \n",
       "1920  Holiday Inn Express Atlanta Ne - I-85 Clairmont      30329  Briarcliff   \n",
       "\n",
       "              reviews.date     reviews.dateAdded  reviews.doRecommend  \\\n",
       "1915  2008-10-05T00:00:00Z  2016-11-17T20:38:28Z                  NaN   \n",
       "1920  2014-09-07T05:00:00Z  2016-11-17T20:38:28Z                  NaN   \n",
       "\n",
       "      reviews.id  reviews.rating  \\\n",
       "1915         NaN             NaN   \n",
       "1920         NaN             NaN   \n",
       "\n",
       "                                           reviews.text reviews.title  \\\n",
       "1915  Mid-range hotel chain with plenty of amenities...           NaN   \n",
       "1920    Nice place, service is outstanding.  Very clean           NaN   \n",
       "\n",
       "     reviews.userCity reviews.username reviews.userProvince  \n",
       "1915              NaN      Contributor                  NaN  \n",
       "1920              NaN      Matt Hickey                  NaN  "
      ]
     },
     "execution_count": 4,
     "metadata": {},
     "output_type": "execute_result"
    }
   ],
   "source": [
    "df[df.city == 'Atlanta'].sample(2)"
   ]
  },
  {
   "cell_type": "code",
   "execution_count": 5,
   "metadata": {},
   "outputs": [
    {
     "data": {
      "text/plain": [
       "count           5000\n",
       "unique           163\n",
       "top       Waterville\n",
       "freq             335\n",
       "Name: city, dtype: object"
      ]
     },
     "execution_count": 5,
     "metadata": {},
     "output_type": "execute_result"
    }
   ],
   "source": [
    "df.city.describe()"
   ]
  },
  {
   "cell_type": "code",
   "execution_count": 6,
   "metadata": {},
   "outputs": [
    {
     "data": {
      "image/png": "[encoded data removed]",
      "text/plain": [
       "<Figure size 1440x720 with 1 Axes>"
      ]
     },
     "metadata": {
      "needs_background": "light"
     },
     "output_type": "display_data"
    }
   ],
   "source": [
    "plt.figure(figsize=(20,10))\n",
    "df['city'].sample(200).value_counts().plot(kind='bar',title='Cities')\n",
    "plt.show()"
   ]
  },
  {
   "cell_type": "code",
   "execution_count": 7,
   "metadata": {},
   "outputs": [
    {
     "data": {
      "text/plain": [
       "0         mableton\n",
       "1         mableton\n",
       "2         mableton\n",
       "3         mableton\n",
       "4         mableton\n",
       "5         mableton\n",
       "6         mableton\n",
       "7         mableton\n",
       "8         mableton\n",
       "9         mableton\n",
       "10        mableton\n",
       "11        mableton\n",
       "12        mableton\n",
       "13        mableton\n",
       "14        mableton\n",
       "15        mableton\n",
       "16        mableton\n",
       "17        mableton\n",
       "18        mableton\n",
       "19        mableton\n",
       "20        mableton\n",
       "21        mableton\n",
       "22        mableton\n",
       "23        mableton\n",
       "24        mableton\n",
       "25        mableton\n",
       "26        mableton\n",
       "27        mableton\n",
       "28        mableton\n",
       "29        mableton\n",
       "           ...    \n",
       "4970    alexandria\n",
       "4971    alexandria\n",
       "4972    alexandria\n",
       "4973    alexandria\n",
       "4974    alexandria\n",
       "4975    alexandria\n",
       "4976    alexandria\n",
       "4977    alexandria\n",
       "4978    alexandria\n",
       "4979    alexandria\n",
       "4980    alexandria\n",
       "4981    alexandria\n",
       "4982    alexandria\n",
       "4983    alexandria\n",
       "4984    alexandria\n",
       "4985    alexandria\n",
       "4986    alexandria\n",
       "4987    alexandria\n",
       "4988    alexandria\n",
       "4989    alexandria\n",
       "4990    alexandria\n",
       "4991    alexandria\n",
       "4992    alexandria\n",
       "4993    alexandria\n",
       "4994    alexandria\n",
       "4995    alexandria\n",
       "4996    alexandria\n",
       "4997    alexandria\n",
       "4998    alexandria\n",
       "4999    alexandria\n",
       "Name: city, Length: 5000, dtype: object"
      ]
     },
     "execution_count": 7,
     "metadata": {},
     "output_type": "execute_result"
    }
   ],
   "source": [
    "def preprocessing(text):\n",
    "    return text.lower()\n",
    "\n",
    "df['city'].apply(preprocessing)"
   ]
  },
  {
   "cell_type": "code",
   "execution_count": 8,
   "metadata": {},
   "outputs": [
    {
     "data": {
      "text/html": [
       "<div>\n",
       "<style scoped>\n",
       "    .dataframe tbody tr th:only-of-type {\n",
       "        vertical-align: middle;\n",
       "    }\n",
       "\n",
       "    .dataframe tbody tr th {\n",
       "        vertical-align: top;\n",
       "    }\n",
       "\n",
       "    .dataframe thead th {\n",
       "        text-align: right;\n",
       "    }\n",
       "</style>\n",
       "<table border=\"1\" class=\"dataframe\">\n",
       "  <thead>\n",
       "    <tr style=\"text-align: right;\">\n",
       "      <th></th>\n",
       "      <th>A</th>\n",
       "      <th>B</th>\n",
       "    </tr>\n",
       "  </thead>\n",
       "  <tbody>\n",
       "    <tr>\n",
       "      <th>0</th>\n",
       "      <td>1</td>\n",
       "      <td>5</td>\n",
       "    </tr>\n",
       "    <tr>\n",
       "      <th>1</th>\n",
       "      <td>2</td>\n",
       "      <td>4</td>\n",
       "    </tr>\n",
       "    <tr>\n",
       "      <th>2</th>\n",
       "      <td>3</td>\n",
       "      <td>3</td>\n",
       "    </tr>\n",
       "    <tr>\n",
       "      <th>3</th>\n",
       "      <td>4</td>\n",
       "      <td>2</td>\n",
       "    </tr>\n",
       "    <tr>\n",
       "      <th>4</th>\n",
       "      <td>5</td>\n",
       "      <td>1</td>\n",
       "    </tr>\n",
       "  </tbody>\n",
       "</table>\n",
       "</div>"
      ],
      "text/plain": [
       "   A  B\n",
       "0  1  5\n",
       "1  2  4\n",
       "2  3  3\n",
       "3  4  2\n",
       "4  5  1"
      ]
     },
     "execution_count": 8,
     "metadata": {},
     "output_type": "execute_result"
    }
   ],
   "source": [
    "your_data = {'A': [1,2,3,4,5], 'B': [5,4,3,2,1]}\n",
    "\n",
    "df2 = pd.DataFrame(your_data)\n",
    "\n",
    "df2"
   ]
  },
  {
   "cell_type": "code",
   "execution_count": 9,
   "metadata": {},
   "outputs": [
    {
     "data": {
      "text/plain": [
       "array([[0.34734524, 0.86703326, 0.4915543 , 0.87047016],\n",
       "       [0.28659117, 0.08518401, 0.40939539, 0.51166461],\n",
       "       [0.36696402, 0.39066007, 0.60377276, 0.77361312],\n",
       "       [0.57298901, 0.17873035, 0.39973553, 0.62963434],\n",
       "       [0.34536542, 0.68974984, 0.93988662, 0.30729411],\n",
       "       [0.31216231, 0.04354917, 0.46077998, 0.74982333],\n",
       "       [0.35189954, 0.67604394, 0.22289782, 0.64854261],\n",
       "       [0.86061194, 0.22444673, 0.87721958, 0.22844952],\n",
       "       [0.38259659, 0.11060695, 0.65145168, 0.19142935],\n",
       "       [0.85786409, 0.03814197, 0.01124353, 0.56226493]])"
      ]
     },
     "execution_count": 9,
     "metadata": {},
     "output_type": "execute_result"
    }
   ],
   "source": [
    "import numpy as np\n",
    "data = np.random.rand(10, 4)\n",
    "data"
   ]
  },
  {
   "cell_type": "code",
   "execution_count": 10,
   "metadata": {},
   "outputs": [
    {
     "data": {
      "image/png": "[encoded data removed]",
      "text/plain": [
       "<Figure size 432x288 with 1 Axes>"
      ]
     },
     "metadata": {
      "needs_background": "light"
     },
     "output_type": "display_data"
    }
   ],
   "source": [
    "df3 = pd.DataFrame(data, columns=['a', 'b', 'c', 'd'])\n",
    "df3.plot.area();"
   ]
  },
  {
   "cell_type": "code",
   "execution_count": 11,
   "metadata": {},
   "outputs": [
    {
     "data": {
      "image/png": "[encoded data removed]",
      "text/plain": [
       "<Figure size 432x288 with 1 Axes>"
      ]
     },
     "metadata": {
      "needs_background": "light"
     },
     "output_type": "display_data"
    }
   ],
   "source": [
    "df3.plot.scatter(x='a', y='b', s=df3['c'] * 200);"
   ]
  },
  {
   "cell_type": "code",
   "execution_count": 12,
   "metadata": {},
   "outputs": [
    {
     "data": {
      "text/plain": [
       "<matplotlib.axes._subplots.AxesSubplot at 0x11c2e0cc0>"
      ]
     },
     "execution_count": 12,
     "metadata": {},
     "output_type": "execute_result"
    },
    {
     "data": {
      "image/png": "[encoded data removed]",
      "text/plain": [
       "<Figure size 432x288 with 2 Axes>"
      ]
     },
     "metadata": {
      "needs_background": "light"
     },
     "output_type": "display_data"
    }
   ],
   "source": [
    "df3.plot.hexbin(x='a', y='b', gridsize=15)"
   ]
  },
  {
   "cell_type": "markdown",
   "metadata": {},
   "source": [
    "# See more\n",
    "https://pandas.pydata.org/pandas-docs/stable/user_guide/visualization.html"
   ]
  },
  {
   "cell_type": "code",
   "execution_count": null,
   "metadata": {},
   "outputs": [],
   "source": []
  }
 ],
 "metadata": {
  "kernelspec": {
   "display_name": "Python 3",
   "language": "python",
   "name": "python3"
  },
  "language_info": {
   "codemirror_mode": {
    "name": "ipython",
    "version": 3
   },
   "file_extension": ".py",
   "mimetype": "text/x-python",
   "name": "python",
   "nbconvert_exporter": "python",
   "pygments_lexer": "ipython3",
   "version": "3.7.0"
  }
 },
 "nbformat": 4,
 "nbformat_minor": 2
}
